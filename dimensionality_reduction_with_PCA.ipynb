{
  "nbformat": 4,
  "nbformat_minor": 0,
  "metadata": {
    "colab": {
      "name": "dimensionality_reduction with PCA.ipynb",
      "provenance": [],
      "include_colab_link": true
    },
    "kernelspec": {
      "display_name": "Python 3",
      "language": "python",
      "name": "python3"
    }
  },
  "cells": [
    {
      "cell_type": "markdown",
      "metadata": {
        "id": "view-in-github",
        "colab_type": "text"
      },
      "source": [
        "<a href=\"https://colab.research.google.com/github/hsun130187/2544/blob/master/dimensionality_reduction_with_PCA.ipynb\" target=\"_parent\"><img src=\"https://colab.research.google.com/assets/colab-badge.svg\" alt=\"Open In Colab\"/></a>"
      ]
    },
    {
      "cell_type": "markdown",
      "metadata": {
        "id": "uqBMXvRT1KVI",
        "colab_type": "text"
      },
      "source": [
        "**Chapter 8 – Dimensionality Reduction**\n",
        "\n",
        "_This notebook was originally published in the book: Hands-on Machine Learning with Scikit Learn and Tensor Flow by A. Geron"
      ]
    },
    {
      "cell_type": "markdown",
      "metadata": {
        "id": "kqFiTQbH1KVK",
        "colab_type": "text"
      },
      "source": [
        "# Setup"
      ]
    },
    {
      "cell_type": "code",
      "metadata": {
        "id": "-3tKRlZR1KVL",
        "colab_type": "code",
        "colab": {}
      },
      "source": [
        "# To support both python 2 and python 3\n",
        "from __future__ import division, print_function, unicode_literals\n",
        "\n",
        "# Common imports\n",
        "import numpy as np\n",
        "import os\n",
        "\n",
        "# to make this notebook's output stable across runs\n",
        "np.random.seed(42)\n",
        "\n",
        "# To plot pretty figures\n",
        "%matplotlib inline\n",
        "import matplotlib\n",
        "import matplotlib.pyplot as plt\n",
        "plt.rcParams['axes.labelsize'] = 14\n",
        "plt.rcParams['xtick.labelsize'] = 12\n",
        "plt.rcParams['ytick.labelsize'] = 12\n",
        "\n",
        "\n",
        "# Ignore useless warnings (see SciPy issue #5998)\n",
        "import warnings\n",
        "warnings.filterwarnings(action=\"ignore\", module=\"scipy\", message=\"^internal gelsd\")"
      ],
      "execution_count": 0,
      "outputs": []
    },
    {
      "cell_type": "markdown",
      "metadata": {
        "id": "fKKSBLou1KVP",
        "colab_type": "text"
      },
      "source": [
        "# Projection methods\n",
        "Build 3D dataset:"
      ]
    },
    {
      "cell_type": "code",
      "metadata": {
        "id": "d8jYmym91KVQ",
        "colab_type": "code",
        "colab": {}
      },
      "source": [
        "np.random.seed(4)\n",
        "m = 60\n",
        "w1, w2 = 0.1, 0.3\n",
        "noise = 0.1\n",
        "\n",
        "angles = np.random.rand(m) * 3 * np.pi / 2 - 0.5\n",
        "X = np.empty((m, 3))\n",
        "X[:, 0] = np.cos(angles) + np.sin(angles)/2 + noise * np.random.randn(m) / 2\n",
        "X[:, 1] = np.sin(angles) * 0.7 + noise * np.random.randn(m) / 2\n",
        "X[:, 2] = X[:, 0] * w1 + X[:, 1] * w2 + noise * np.random.randn(m)"
      ],
      "execution_count": 0,
      "outputs": []
    },
    {
      "cell_type": "markdown",
      "metadata": {
        "id": "xNldcryd1KVT",
        "colab_type": "text"
      },
      "source": [
        "## PCA using SVD decomposition"
      ]
    },
    {
      "cell_type": "code",
      "metadata": {
        "id": "d1IFA-Cf1KVU",
        "colab_type": "code",
        "colab": {}
      },
      "source": [
        "X_centered = X - X.mean(axis=0)\n",
        "U, s, Vt = np.linalg.svd(X_centered)\n",
        "c1 = Vt.T[:, 0]\n",
        "c2 = Vt.T[:, 1]"
      ],
      "execution_count": 0,
      "outputs": []
    },
    {
      "cell_type": "code",
      "metadata": {
        "id": "NepnQ0eI1KVX",
        "colab_type": "code",
        "colab": {}
      },
      "source": [
        "m, n = X.shape\n",
        "\n",
        "S = np.zeros(X_centered.shape)\n",
        "S[:n, :n] = np.diag(s)"
      ],
      "execution_count": 0,
      "outputs": []
    },
    {
      "cell_type": "code",
      "metadata": {
        "id": "StbyWYqS1KVa",
        "colab_type": "code",
        "outputId": "f47b8287-8ef8-4197-9dad-d1efed52695a",
        "colab": {
          "base_uri": "https://localhost:8080/",
          "height": 36
        }
      },
      "source": [
        "np.allclose(X_centered, U.dot(S).dot(Vt))"
      ],
      "execution_count": 0,
      "outputs": [
        {
          "output_type": "execute_result",
          "data": {
            "text/plain": [
              "True"
            ]
          },
          "metadata": {
            "tags": []
          },
          "execution_count": 5
        }
      ]
    },
    {
      "cell_type": "code",
      "metadata": {
        "id": "Zuy_wCpJ1KVh",
        "colab_type": "code",
        "colab": {}
      },
      "source": [
        "W2 = Vt.T[:, :2]\n",
        "X2D = X_centered.dot(W2)"
      ],
      "execution_count": 0,
      "outputs": []
    },
    {
      "cell_type": "code",
      "metadata": {
        "id": "jGsprEk51KVj",
        "colab_type": "code",
        "colab": {}
      },
      "source": [
        "X2D_using_svd = X2D"
      ],
      "execution_count": 0,
      "outputs": []
    },
    {
      "cell_type": "markdown",
      "metadata": {
        "id": "6WNQZUzY1KVm",
        "colab_type": "text"
      },
      "source": [
        "## PCA using Scikit-Learn"
      ]
    },
    {
      "cell_type": "markdown",
      "metadata": {
        "id": "1hL490Md1KVn",
        "colab_type": "text"
      },
      "source": [
        "With Scikit-Learn, PCA is really trivial. It even takes care of mean centering for you:"
      ]
    },
    {
      "cell_type": "code",
      "metadata": {
        "id": "1JrvJw3O1KVp",
        "colab_type": "code",
        "colab": {}
      },
      "source": [
        "from sklearn.decomposition import PCA\n",
        "\n",
        "pca = PCA(n_components = 2)\n",
        "X2D = pca.fit_transform(X)"
      ],
      "execution_count": 0,
      "outputs": []
    },
    {
      "cell_type": "code",
      "metadata": {
        "id": "EM0Lt1kP1KVs",
        "colab_type": "code",
        "outputId": "2fc3a08b-02de-4ea4-e2dd-0c61b22bc117",
        "colab": {
          "base_uri": "https://localhost:8080/",
          "height": 109
        }
      },
      "source": [
        "X2D[:5]"
      ],
      "execution_count": 0,
      "outputs": [
        {
          "output_type": "execute_result",
          "data": {
            "text/plain": [
              "array([[ 1.26203346,  0.42067648],\n",
              "       [-0.08001485, -0.35272239],\n",
              "       [ 1.17545763,  0.36085729],\n",
              "       [ 0.89305601, -0.30862856],\n",
              "       [ 0.73016287, -0.25404049]])"
            ]
          },
          "metadata": {
            "tags": []
          },
          "execution_count": 9
        }
      ]
    },
    {
      "cell_type": "code",
      "metadata": {
        "id": "_wv_736C1KVw",
        "colab_type": "code",
        "outputId": "1342ff89-996a-4374-f3d2-101a4e5c0d34",
        "colab": {
          "base_uri": "https://localhost:8080/",
          "height": 109
        }
      },
      "source": [
        "X2D_using_svd[:5]"
      ],
      "execution_count": 0,
      "outputs": [
        {
          "output_type": "execute_result",
          "data": {
            "text/plain": [
              "array([[-1.26203346, -0.42067648],\n",
              "       [ 0.08001485,  0.35272239],\n",
              "       [-1.17545763, -0.36085729],\n",
              "       [-0.89305601,  0.30862856],\n",
              "       [-0.73016287,  0.25404049]])"
            ]
          },
          "metadata": {
            "tags": []
          },
          "execution_count": 10
        }
      ]
    },
    {
      "cell_type": "markdown",
      "metadata": {
        "id": "ZOpRfkp11KVz",
        "colab_type": "text"
      },
      "source": [
        "Notice that running PCA multiple times on slightly different datasets may result in different results. In general the only difference is that some axes may be flipped. In this example, PCA using Scikit-Learn gives the same projection as the one given by the SVD approach, except both axes are flipped:"
      ]
    },
    {
      "cell_type": "code",
      "metadata": {
        "id": "i9-qrJed1KV0",
        "colab_type": "code",
        "outputId": "6c56625f-095d-4485-a687-5283d201081f",
        "colab": {
          "base_uri": "https://localhost:8080/",
          "height": 36
        }
      },
      "source": [
        "np.allclose(X2D, -X2D_using_svd)"
      ],
      "execution_count": 0,
      "outputs": [
        {
          "output_type": "execute_result",
          "data": {
            "text/plain": [
              "True"
            ]
          },
          "metadata": {
            "tags": []
          },
          "execution_count": 11
        }
      ]
    },
    {
      "cell_type": "markdown",
      "metadata": {
        "id": "f2-UCSWA1KV4",
        "colab_type": "text"
      },
      "source": [
        "Recover the 3D points projected on the plane (PCA 2D subspace)."
      ]
    },
    {
      "cell_type": "code",
      "metadata": {
        "id": "mIULHOoQ1KV5",
        "colab_type": "code",
        "colab": {}
      },
      "source": [
        "X3D_inv = pca.inverse_transform(X2D)"
      ],
      "execution_count": 0,
      "outputs": []
    },
    {
      "cell_type": "markdown",
      "metadata": {
        "id": "0tO8csXk1KV8",
        "colab_type": "text"
      },
      "source": [
        "Of course, there was some loss of information during the projection step, so the recovered 3D points are not exactly equal to the original 3D points:"
      ]
    },
    {
      "cell_type": "code",
      "metadata": {
        "id": "-KvpNctf1KV8",
        "colab_type": "code",
        "outputId": "6b3a2012-7c38-4758-ac42-bb5f278dbbdc",
        "colab": {
          "base_uri": "https://localhost:8080/",
          "height": 36
        }
      },
      "source": [
        "np.allclose(X3D_inv, X)"
      ],
      "execution_count": 0,
      "outputs": [
        {
          "output_type": "execute_result",
          "data": {
            "text/plain": [
              "False"
            ]
          },
          "metadata": {
            "tags": []
          },
          "execution_count": 13
        }
      ]
    },
    {
      "cell_type": "markdown",
      "metadata": {
        "id": "M9nxEmvP1KWA",
        "colab_type": "text"
      },
      "source": [
        "We can compute the reconstruction error:"
      ]
    },
    {
      "cell_type": "code",
      "metadata": {
        "id": "3JwugTUg1KWB",
        "colab_type": "code",
        "outputId": "3ef35011-518a-459a-e57d-0d8191e0ba94",
        "colab": {
          "base_uri": "https://localhost:8080/",
          "height": 36
        }
      },
      "source": [
        "np.mean(np.sum(np.square(X3D_inv - X), axis=1))"
      ],
      "execution_count": 0,
      "outputs": [
        {
          "output_type": "execute_result",
          "data": {
            "text/plain": [
              "0.010170337792848549"
            ]
          },
          "metadata": {
            "tags": []
          },
          "execution_count": 14
        }
      ]
    },
    {
      "cell_type": "markdown",
      "metadata": {
        "id": "75_iEEkO1KWF",
        "colab_type": "text"
      },
      "source": [
        "The inverse transform in the SVD approach looks like this:"
      ]
    },
    {
      "cell_type": "code",
      "metadata": {
        "id": "bzL4NjK01KWG",
        "colab_type": "code",
        "colab": {}
      },
      "source": [
        "X3D_inv_using_svd = X2D_using_svd.dot(Vt[:2, :])"
      ],
      "execution_count": 0,
      "outputs": []
    },
    {
      "cell_type": "markdown",
      "metadata": {
        "id": "X2eqxz5b1KWK",
        "colab_type": "text"
      },
      "source": [
        "The reconstructions from both methods are not identical because Scikit-Learn's `PCA` class automatically takes care of reversing the mean centering, but if we subtract the mean, we get the same reconstruction:"
      ]
    },
    {
      "cell_type": "code",
      "metadata": {
        "id": "yrsk8fPH1KWK",
        "colab_type": "code",
        "outputId": "728c4b66-759c-4482-d8bd-28a767f454bc",
        "colab": {
          "base_uri": "https://localhost:8080/",
          "height": 36
        }
      },
      "source": [
        "np.allclose(X3D_inv_using_svd, X3D_inv - pca.mean_)"
      ],
      "execution_count": 0,
      "outputs": [
        {
          "output_type": "execute_result",
          "data": {
            "text/plain": [
              "True"
            ]
          },
          "metadata": {
            "tags": []
          },
          "execution_count": 16
        }
      ]
    },
    {
      "cell_type": "markdown",
      "metadata": {
        "id": "Ql8sNlRE1KWO",
        "colab_type": "text"
      },
      "source": [
        "The `PCA` object gives access to the principal components that it computed:"
      ]
    },
    {
      "cell_type": "code",
      "metadata": {
        "id": "poHwfiMR1KWO",
        "colab_type": "code",
        "outputId": "7f396e92-d523-4c51-ecc6-746b5d3fc4b3",
        "colab": {
          "base_uri": "https://localhost:8080/",
          "height": 54
        }
      },
      "source": [
        "pca.components_"
      ],
      "execution_count": 0,
      "outputs": [
        {
          "output_type": "execute_result",
          "data": {
            "text/plain": [
              "array([[-0.93636116, -0.29854881, -0.18465208],\n",
              "       [ 0.34027485, -0.90119108, -0.2684542 ]])"
            ]
          },
          "metadata": {
            "tags": []
          },
          "execution_count": 17
        }
      ]
    },
    {
      "cell_type": "markdown",
      "metadata": {
        "id": "Ro96ZLjF1KWR",
        "colab_type": "text"
      },
      "source": [
        "Compare to the first two principal components computed using the SVD method:"
      ]
    },
    {
      "cell_type": "code",
      "metadata": {
        "id": "VU4GWBoj1KWS",
        "colab_type": "code",
        "outputId": "975fd8d4-1284-4a30-e87c-f526f9646644",
        "colab": {
          "base_uri": "https://localhost:8080/",
          "height": 54
        }
      },
      "source": [
        "Vt[:2]"
      ],
      "execution_count": 0,
      "outputs": [
        {
          "output_type": "execute_result",
          "data": {
            "text/plain": [
              "array([[ 0.93636116,  0.29854881,  0.18465208],\n",
              "       [-0.34027485,  0.90119108,  0.2684542 ]])"
            ]
          },
          "metadata": {
            "tags": []
          },
          "execution_count": 18
        }
      ]
    },
    {
      "cell_type": "markdown",
      "metadata": {
        "id": "xB6PdECq1KWW",
        "colab_type": "text"
      },
      "source": [
        "Notice how the axes are flipped."
      ]
    },
    {
      "cell_type": "markdown",
      "metadata": {
        "id": "FPv95xa91KWX",
        "colab_type": "text"
      },
      "source": [
        "Now let's look at the explained variance ratio:"
      ]
    },
    {
      "cell_type": "code",
      "metadata": {
        "id": "jEOJwGgw1KWY",
        "colab_type": "code",
        "outputId": "0ce04f66-dbdd-4416-a7a6-f583e6731d6b",
        "colab": {
          "base_uri": "https://localhost:8080/",
          "height": 36
        }
      },
      "source": [
        "pca.explained_variance_ratio_"
      ],
      "execution_count": 0,
      "outputs": [
        {
          "output_type": "execute_result",
          "data": {
            "text/plain": [
              "array([0.84248607, 0.14631839])"
            ]
          },
          "metadata": {
            "tags": []
          },
          "execution_count": 19
        }
      ]
    },
    {
      "cell_type": "markdown",
      "metadata": {
        "id": "aQIC9P7k1KWb",
        "colab_type": "text"
      },
      "source": [
        "The first dimension explains 84.2% of the variance, while the second explains 14.6%."
      ]
    },
    {
      "cell_type": "markdown",
      "metadata": {
        "id": "SjIrh27L1KWc",
        "colab_type": "text"
      },
      "source": [
        "By projecting down to 2D, we lost about 1.1% of the variance:"
      ]
    },
    {
      "cell_type": "code",
      "metadata": {
        "id": "eI9wdRx51KWc",
        "colab_type": "code",
        "outputId": "b87d6818-6dde-4b5f-ddf4-c926078894bc",
        "colab": {
          "base_uri": "https://localhost:8080/",
          "height": 36
        }
      },
      "source": [
        "1 - pca.explained_variance_ratio_.sum()"
      ],
      "execution_count": 0,
      "outputs": [
        {
          "output_type": "execute_result",
          "data": {
            "text/plain": [
              "0.011195535570688975"
            ]
          },
          "metadata": {
            "tags": []
          },
          "execution_count": 20
        }
      ]
    },
    {
      "cell_type": "markdown",
      "metadata": {
        "id": "JubN7Iza1KWf",
        "colab_type": "text"
      },
      "source": [
        "Here is how to compute the explained variance ratio using the SVD approach (recall that `s` is the diagonal of the matrix `S`):"
      ]
    },
    {
      "cell_type": "code",
      "metadata": {
        "id": "hOsprW9p1KWg",
        "colab_type": "code",
        "outputId": "0eba43fe-6cce-47ce-83b2-3d9214c82f36",
        "colab": {
          "base_uri": "https://localhost:8080/",
          "height": 36
        }
      },
      "source": [
        "np.square(s) / np.square(s).sum()"
      ],
      "execution_count": 0,
      "outputs": [
        {
          "output_type": "execute_result",
          "data": {
            "text/plain": [
              "array([0.84248607, 0.14631839, 0.01119554])"
            ]
          },
          "metadata": {
            "tags": []
          },
          "execution_count": 21
        }
      ]
    },
    {
      "cell_type": "markdown",
      "metadata": {
        "id": "DCeop-2K1KWk",
        "colab_type": "text"
      },
      "source": [
        "Next, let's generate some nice figures! :)"
      ]
    },
    {
      "cell_type": "markdown",
      "metadata": {
        "id": "lg3xBRo81KWl",
        "colab_type": "text"
      },
      "source": [
        "Utility class to draw 3D arrows (copied from http://stackoverflow.com/questions/11140163)"
      ]
    },
    {
      "cell_type": "code",
      "metadata": {
        "id": "Dep4uqBM1KWl",
        "colab_type": "code",
        "colab": {}
      },
      "source": [
        "from matplotlib.patches import FancyArrowPatch\n",
        "from mpl_toolkits.mplot3d import proj3d\n",
        "\n",
        "class Arrow3D(FancyArrowPatch):\n",
        "    def __init__(self, xs, ys, zs, *args, **kwargs):\n",
        "        FancyArrowPatch.__init__(self, (0,0), (0,0), *args, **kwargs)\n",
        "        self._verts3d = xs, ys, zs\n",
        "\n",
        "    def draw(self, renderer):\n",
        "        xs3d, ys3d, zs3d = self._verts3d\n",
        "        xs, ys, zs = proj3d.proj_transform(xs3d, ys3d, zs3d, renderer.M)\n",
        "        self.set_positions((xs[0],ys[0]),(xs[1],ys[1]))\n",
        "        FancyArrowPatch.draw(self, renderer)"
      ],
      "execution_count": 0,
      "outputs": []
    },
    {
      "cell_type": "markdown",
      "metadata": {
        "id": "UFLg3_yi1KWp",
        "colab_type": "text"
      },
      "source": [
        "Express the plane as a function of x and y."
      ]
    },
    {
      "cell_type": "code",
      "metadata": {
        "id": "LSpfa75w1KWp",
        "colab_type": "code",
        "colab": {}
      },
      "source": [
        "axes = [-1.8, 1.8, -1.3, 1.3, -1.0, 1.0]\n",
        "\n",
        "x1s = np.linspace(axes[0], axes[1], 10)\n",
        "x2s = np.linspace(axes[2], axes[3], 10)\n",
        "x1, x2 = np.meshgrid(x1s, x2s)\n",
        "\n",
        "C = pca.components_\n",
        "R = C.T.dot(C)\n",
        "z = (R[0, 2] * x1 + R[1, 2] * x2) / (1 - R[2, 2])"
      ],
      "execution_count": 0,
      "outputs": []
    },
    {
      "cell_type": "markdown",
      "metadata": {
        "id": "Zqn7AgZc1KWs",
        "colab_type": "text"
      },
      "source": [
        "Plot the 3D dataset, the plane and the projections on that plane."
      ]
    },
    {
      "cell_type": "code",
      "metadata": {
        "id": "0tJwdQX51KWt",
        "colab_type": "code",
        "outputId": "6cf3dcb4-51b9-41a4-fb30-9816096805db",
        "colab": {
          "base_uri": "https://localhost:8080/",
          "height": 237
        }
      },
      "source": [
        "from mpl_toolkits.mplot3d import Axes3D\n",
        "\n",
        "fig = plt.figure(figsize=(6, 3.8))\n",
        "ax = fig.add_subplot(111, projection='3d')\n",
        "\n",
        "X3D_above = X[X[:, 2] > X3D_inv[:, 2]]\n",
        "X3D_below = X[X[:, 2] <= X3D_inv[:, 2]]\n",
        "\n",
        "ax.plot(X3D_below[:, 0], X3D_below[:, 1], X3D_below[:, 2], \"bo\", alpha=0.5)\n",
        "\n",
        "ax.plot_surface(x1, x2, z, alpha=0.2, color=\"k\")\n",
        "np.linalg.norm(C, axis=0)\n",
        "ax.add_artist(Arrow3D([0, C[0, 0]],[0, C[0, 1]],[0, C[0, 2]], mutation_scale=15, lw=1, arrowstyle=\"-|>\", color=\"k\"))\n",
        "ax.add_artist(Arrow3D([0, C[1, 0]],[0, C[1, 1]],[0, C[1, 2]], mutation_scale=15, lw=1, arrowstyle=\"-|>\", color=\"k\"))\n",
        "ax.plot([0], [0], [0], \"k.\")\n",
        "\n",
        "for i in range(m):\n",
        "    if X[i, 2] > X3D_inv[i, 2]:\n",
        "        ax.plot([X[i][0], X3D_inv[i][0]], [X[i][1], X3D_inv[i][1]], [X[i][2], X3D_inv[i][2]], \"k-\")\n",
        "    else:\n",
        "        ax.plot([X[i][0], X3D_inv[i][0]], [X[i][1], X3D_inv[i][1]], [X[i][2], X3D_inv[i][2]], \"k-\", color=\"#505050\")\n",
        "    \n",
        "ax.plot(X3D_inv[:, 0], X3D_inv[:, 1], X3D_inv[:, 2], \"k+\")\n",
        "ax.plot(X3D_inv[:, 0], X3D_inv[:, 1], X3D_inv[:, 2], \"k.\")\n",
        "ax.plot(X3D_above[:, 0], X3D_above[:, 1], X3D_above[:, 2], \"bo\")\n",
        "ax.set_xlabel(\"$x_1$\", fontsize=18)\n",
        "ax.set_ylabel(\"$x_2$\", fontsize=18)\n",
        "ax.set_zlabel(\"$x_3$\", fontsize=18)\n",
        "ax.set_xlim(axes[0:2])\n",
        "ax.set_ylim(axes[2:4])\n",
        "ax.set_zlim(axes[4:6])\n",
        "\n",
        "plt.show()"
      ],
      "execution_count": 0,
      "outputs": [
        {
          "output_type": "display_data",
          "data": {
            "image/png": "[encoded data removed]",
            "text/plain": [
              "<Figure size 432x273.6 with 1 Axes>"
            ]
          },
          "metadata": {
            "tags": [],
            "needs_background": "light"
          }
        }
      ]
    },
    {
      "cell_type": "code",
      "metadata": {
        "id": "7Bt_rc3S1KWy",
        "colab_type": "code",
        "outputId": "d4a61836-bd13-41ea-f4ba-21992873bb34",
        "colab": {
          "base_uri": "https://localhost:8080/",
          "height": 290
        }
      },
      "source": [
        "fig = plt.figure()\n",
        "ax = fig.add_subplot(111, aspect='equal')\n",
        "\n",
        "ax.plot(X2D[:, 0], X2D[:, 1], \"k+\")\n",
        "ax.plot(X2D[:, 0], X2D[:, 1], \"k.\")\n",
        "ax.plot([0], [0], \"ko\")\n",
        "ax.arrow(0, 0, 0, 1, head_width=0.05, length_includes_head=True, head_length=0.1, fc='k', ec='k')\n",
        "ax.arrow(0, 0, 1, 0, head_width=0.05, length_includes_head=True, head_length=0.1, fc='k', ec='k')\n",
        "ax.set_xlabel(\"$z_1$\", fontsize=18)\n",
        "ax.set_ylabel(\"$z_2$\", fontsize=18, rotation=0)\n",
        "ax.axis([-1.5, 1.3, -1.2, 1.2])\n",
        "ax.grid(True)\n"
      ],
      "execution_count": 0,
      "outputs": [
        {
          "output_type": "display_data",
          "data": {
            "image/png": "[encoded data removed]",
            "text/plain": [
              "<Figure size 432x288 with 1 Axes>"
            ]
          },
          "metadata": {
            "tags": [],
            "needs_background": "light"
          }
        }
      ]
    },
    {
      "cell_type": "markdown",
      "metadata": {
        "id": "bfX81ZeO1KXH",
        "colab_type": "text"
      },
      "source": [
        "# PCA"
      ]
    },
    {
      "cell_type": "code",
      "metadata": {
        "id": "cQL_yJDl1KXH",
        "colab_type": "code",
        "outputId": "5565ccad-4725-43af-e218-ae6ae8de33e4",
        "colab": {
          "base_uri": "https://localhost:8080/",
          "height": 290
        }
      },
      "source": [
        "angle = np.pi / 5\n",
        "stretch = 5\n",
        "m = 200\n",
        "\n",
        "np.random.seed(3)\n",
        "X = np.random.randn(m, 2) / 10\n",
        "X = X.dot(np.array([[stretch, 0],[0, 1]])) # stretch\n",
        "X = X.dot([[np.cos(angle), np.sin(angle)], [-np.sin(angle), np.cos(angle)]]) # rotate\n",
        "\n",
        "u1 = np.array([np.cos(angle), np.sin(angle)])\n",
        "u2 = np.array([np.cos(angle - 2 * np.pi/6), np.sin(angle - 2 * np.pi/6)])\n",
        "u3 = np.array([np.cos(angle - np.pi/2), np.sin(angle - np.pi/2)])\n",
        "\n",
        "X_proj1 = X.dot(u1.reshape(-1, 1))\n",
        "X_proj2 = X.dot(u2.reshape(-1, 1))\n",
        "X_proj3 = X.dot(u3.reshape(-1, 1))\n",
        "\n",
        "plt.figure(figsize=(8,4))\n",
        "plt.subplot2grid((3,2), (0, 0), rowspan=3)\n",
        "plt.plot([-1.4, 1.4], [-1.4*u1[1]/u1[0], 1.4*u1[1]/u1[0]], \"k-\", linewidth=1)\n",
        "plt.plot([-1.4, 1.4], [-1.4*u2[1]/u2[0], 1.4*u2[1]/u2[0]], \"k--\", linewidth=1)\n",
        "plt.plot([-1.4, 1.4], [-1.4*u3[1]/u3[0], 1.4*u3[1]/u3[0]], \"k:\", linewidth=2)\n",
        "plt.plot(X[:, 0], X[:, 1], \"bo\", alpha=0.5)\n",
        "plt.axis([-1.4, 1.4, -1.4, 1.4])\n",
        "plt.arrow(0, 0, u1[0], u1[1], head_width=0.1, linewidth=5, length_includes_head=True, head_length=0.1, fc='k', ec='k')\n",
        "plt.arrow(0, 0, u3[0], u3[1], head_width=0.1, linewidth=5, length_includes_head=True, head_length=0.1, fc='k', ec='k')\n",
        "plt.text(u1[0] + 0.1, u1[1] - 0.05, r\"$\\mathbf{c_1}$\", fontsize=22)\n",
        "plt.text(u3[0] + 0.1, u3[1], r\"$\\mathbf{c_2}$\", fontsize=22)\n",
        "plt.xlabel(\"$x_1$\", fontsize=18)\n",
        "plt.ylabel(\"$x_2$\", fontsize=18, rotation=0)\n",
        "plt.grid(True)\n",
        "\n",
        "plt.subplot2grid((3,2), (0, 1))\n",
        "plt.plot([-2, 2], [0, 0], \"k-\", linewidth=1)\n",
        "plt.plot(X_proj1[:, 0], np.zeros(m), \"bo\", alpha=0.3)\n",
        "plt.gca().get_yaxis().set_ticks([])\n",
        "plt.gca().get_xaxis().set_ticklabels([])\n",
        "plt.axis([-2, 2, -1, 1])\n",
        "plt.grid(True)\n",
        "\n",
        "plt.subplot2grid((3,2), (1, 1))\n",
        "plt.plot([-2, 2], [0, 0], \"k--\", linewidth=1)\n",
        "plt.plot(X_proj2[:, 0], np.zeros(m), \"bo\", alpha=0.3)\n",
        "plt.gca().get_yaxis().set_ticks([])\n",
        "plt.gca().get_xaxis().set_ticklabels([])\n",
        "plt.axis([-2, 2, -1, 1])\n",
        "plt.grid(True)\n",
        "\n",
        "plt.subplot2grid((3,2), (2, 1))\n",
        "plt.plot([-2, 2], [0, 0], \"k:\", linewidth=2)\n",
        "plt.plot(X_proj3[:, 0], np.zeros(m), \"bo\", alpha=0.3)\n",
        "plt.gca().get_yaxis().set_ticks([])\n",
        "plt.axis([-2, 2, -1, 1])\n",
        "plt.xlabel(\"$z_1$\", fontsize=18)\n",
        "plt.grid(True)\n",
        "\n",
        "plt.show()"
      ],
      "execution_count": 0,
      "outputs": [
        {
          "output_type": "display_data",
          "data": {
            "image/png": "[encoded data removed]",
            "text/plain": [
              "<Figure size 576x288 with 4 Axes>"
            ]
          },
          "metadata": {
            "tags": [],
            "needs_background": "light"
          }
        }
      ]
    },
    {
      "cell_type": "markdown",
      "metadata": {
        "id": "JURJT6bK1KXK",
        "colab_type": "text"
      },
      "source": [
        "# MNIST compression"
      ]
    },
    {
      "cell_type": "code",
      "metadata": {
        "id": "cFHfEniD1KXM",
        "colab_type": "code",
        "outputId": "4babb9de-e060-47cc-ad18-e720586b4208",
        "colab": {
          "base_uri": "https://localhost:8080/",
          "height": 354
        }
      },
      "source": [
        "from six.moves import urllib\n",
        "from sklearn.datasets import fetch_mldata\n",
        "mnist = fetch_mldata('MNIST original')"
      ],
      "execution_count": 0,
      "outputs": [
        {
          "output_type": "error",
          "ename": "ImportError",
          "evalue": "ignored",
          "traceback": [
            "\u001b[0;31m---------------------------------------------------------------------------\u001b[0m",
            "\u001b[0;31mImportError\u001b[0m                               Traceback (most recent call last)",
            "\u001b[0;32m<ipython-input-27-9ad0913ec8ac>\u001b[0m in \u001b[0;36m<module>\u001b[0;34m()\u001b[0m\n\u001b[1;32m      1\u001b[0m \u001b[0;32mfrom\u001b[0m \u001b[0msix\u001b[0m\u001b[0;34m.\u001b[0m\u001b[0mmoves\u001b[0m \u001b[0;32mimport\u001b[0m \u001b[0murllib\u001b[0m\u001b[0;34m\u001b[0m\u001b[0;34m\u001b[0m\u001b[0m\n\u001b[0;32m----> 2\u001b[0;31m \u001b[0;32mfrom\u001b[0m \u001b[0msklearn\u001b[0m\u001b[0;34m.\u001b[0m\u001b[0mdatasets\u001b[0m \u001b[0;32mimport\u001b[0m \u001b[0mfetch_mldata\u001b[0m\u001b[0;34m\u001b[0m\u001b[0;34m\u001b[0m\u001b[0m\n\u001b[0m\u001b[1;32m      3\u001b[0m \u001b[0mmnist\u001b[0m \u001b[0;34m=\u001b[0m \u001b[0mfetch_mldata\u001b[0m\u001b[0;34m(\u001b[0m\u001b[0;34m'MNIST original'\u001b[0m\u001b[0;34m)\u001b[0m\u001b[0;34m\u001b[0m\u001b[0;34m\u001b[0m\u001b[0m\n",
            "\u001b[0;31mImportError\u001b[0m: cannot import name 'fetch_mldata'",
            "",
            "\u001b[0;31m---------------------------------------------------------------------------\u001b[0;32m\nNOTE: If your import is failing due to a missing package, you can\nmanually install dependencies using either !pip or !apt.\n\nTo view examples of installing some common dependencies, click the\n\"Open Examples\" button below.\n\u001b[0;31m---------------------------------------------------------------------------\u001b[0m\n"
          ]
        }
      ]
    },
    {
      "cell_type": "code",
      "metadata": {
        "id": "oNBQ_KLW1KXQ",
        "colab_type": "code",
        "colab": {}
      },
      "source": [
        "from sklearn.model_selection import train_test_split\n",
        "\n",
        "X = mnist[\"data\"]\n",
        "y = mnist[\"target\"]\n",
        "\n",
        "X_train, X_test, y_train, y_test = train_test_split(X, y)"
      ],
      "execution_count": 0,
      "outputs": []
    },
    {
      "cell_type": "code",
      "metadata": {
        "id": "XxzBcJ9O1KXT",
        "colab_type": "code",
        "colab": {}
      },
      "source": [
        "pca = PCA()\n",
        "pca.fit(X_train)\n",
        "cumsum = np.cumsum(pca.explained_variance_ratio_)\n",
        "d = np.argmax(cumsum >= 0.95) + 1"
      ],
      "execution_count": 0,
      "outputs": []
    },
    {
      "cell_type": "code",
      "metadata": {
        "id": "QJhThnVC1KXU",
        "colab_type": "code",
        "colab": {}
      },
      "source": [
        "d"
      ],
      "execution_count": 0,
      "outputs": []
    },
    {
      "cell_type": "code",
      "metadata": {
        "id": "9dIdbCub1KXX",
        "colab_type": "code",
        "colab": {}
      },
      "source": [
        "pca = PCA(n_components=0.95)\n",
        "X_reduced = pca.fit_transform(X_train)"
      ],
      "execution_count": 0,
      "outputs": []
    },
    {
      "cell_type": "code",
      "metadata": {
        "id": "RaNn0_y61KXY",
        "colab_type": "code",
        "colab": {}
      },
      "source": [
        "pca.n_components_"
      ],
      "execution_count": 0,
      "outputs": []
    },
    {
      "cell_type": "code",
      "metadata": {
        "id": "eF84NLr_1KXd",
        "colab_type": "code",
        "colab": {}
      },
      "source": [
        "np.sum(pca.explained_variance_ratio_)"
      ],
      "execution_count": 0,
      "outputs": []
    },
    {
      "cell_type": "code",
      "metadata": {
        "id": "82CZHqth1KXg",
        "colab_type": "code",
        "colab": {}
      },
      "source": [
        "pca = PCA(n_components = 154)\n",
        "X_reduced = pca.fit_transform(X_train)\n",
        "X_recovered = pca.inverse_transform(X_reduced)"
      ],
      "execution_count": 0,
      "outputs": []
    },
    {
      "cell_type": "code",
      "metadata": {
        "id": "JOUzKcTX1KXi",
        "colab_type": "code",
        "colab": {}
      },
      "source": [
        "def plot_digits(instances, images_per_row=5, **options):\n",
        "    size = 28\n",
        "    images_per_row = min(len(instances), images_per_row)\n",
        "    images = [instance.reshape(size,size) for instance in instances]\n",
        "    n_rows = (len(instances) - 1) // images_per_row + 1\n",
        "    row_images = []\n",
        "    n_empty = n_rows * images_per_row - len(instances)\n",
        "    images.append(np.zeros((size, size * n_empty)))\n",
        "    for row in range(n_rows):\n",
        "        rimages = images[row * images_per_row : (row + 1) * images_per_row]\n",
        "        row_images.append(np.concatenate(rimages, axis=1))\n",
        "    image = np.concatenate(row_images, axis=0)\n",
        "    plt.imshow(image, cmap = matplotlib.cm.binary, **options)\n",
        "    plt.axis(\"off\")"
      ],
      "execution_count": 0,
      "outputs": []
    },
    {
      "cell_type": "code",
      "metadata": {
        "id": "-Vfoudjs1KXk",
        "colab_type": "code",
        "colab": {}
      },
      "source": [
        "plt.figure(figsize=(7, 4))\n",
        "plt.subplot(121)\n",
        "plot_digits(X_train[::2100])\n",
        "plt.title(\"Original\", fontsize=16)\n",
        "plt.subplot(122)\n",
        "plot_digits(X_recovered[::2100])\n",
        "plt.title(\"Compressed\", fontsize=16)\n"
      ],
      "execution_count": 0,
      "outputs": []
    },
    {
      "cell_type": "code",
      "metadata": {
        "id": "GK0mefn_1KXp",
        "colab_type": "code",
        "colab": {}
      },
      "source": [
        "X_reduced_pca = X_reduced"
      ],
      "execution_count": 0,
      "outputs": []
    },
    {
      "cell_type": "markdown",
      "metadata": {
        "id": "Pjp1jRW61KXr",
        "colab_type": "text"
      },
      "source": [
        "## Incremental PCA"
      ]
    },
    {
      "cell_type": "code",
      "metadata": {
        "id": "-fXfat4U1KXr",
        "colab_type": "code",
        "colab": {}
      },
      "source": [
        "from sklearn.decomposition import IncrementalPCA\n",
        "\n",
        "n_batches = 100\n",
        "inc_pca = IncrementalPCA(n_components=154)\n",
        "for X_batch in np.array_split(X_train, n_batches):\n",
        "    print(\".\", end=\"\") # not shown in the book\n",
        "    inc_pca.partial_fit(X_batch)\n",
        "\n",
        "X_reduced = inc_pca.transform(X_train)"
      ],
      "execution_count": 0,
      "outputs": []
    },
    {
      "cell_type": "code",
      "metadata": {
        "id": "4s_PZedv1KXt",
        "colab_type": "code",
        "colab": {}
      },
      "source": [
        "X_recovered_inc_pca = inc_pca.inverse_transform(X_reduced)"
      ],
      "execution_count": 0,
      "outputs": []
    },
    {
      "cell_type": "code",
      "metadata": {
        "id": "H8k8PDMC1KXv",
        "colab_type": "code",
        "colab": {}
      },
      "source": [
        "plt.figure(figsize=(7, 4))\n",
        "plt.subplot(121)\n",
        "plot_digits(X_train[::2100])\n",
        "plt.subplot(122)\n",
        "plot_digits(X_recovered_inc_pca[::2100])\n",
        "plt.tight_layout()"
      ],
      "execution_count": 0,
      "outputs": []
    },
    {
      "cell_type": "code",
      "metadata": {
        "id": "CnmcE07Z1KX0",
        "colab_type": "code",
        "colab": {}
      },
      "source": [
        "X_reduced_inc_pca = X_reduced"
      ],
      "execution_count": 0,
      "outputs": []
    },
    {
      "cell_type": "markdown",
      "metadata": {
        "id": "vkBzwhP31KX3",
        "colab_type": "text"
      },
      "source": [
        "Let's compare the results of transforming MNIST using regular PCA and incremental PCA. First, the means are equal: "
      ]
    },
    {
      "cell_type": "code",
      "metadata": {
        "id": "BE8-MTCX1KX4",
        "colab_type": "code",
        "colab": {}
      },
      "source": [
        "np.allclose(pca.mean_, inc_pca.mean_)"
      ],
      "execution_count": 0,
      "outputs": []
    },
    {
      "cell_type": "markdown",
      "metadata": {
        "id": "QlOxfwnl1KX7",
        "colab_type": "text"
      },
      "source": [
        "But the results are not exactly identical. Incremental PCA gives a very good approximate solution, but it's not perfect:"
      ]
    },
    {
      "cell_type": "code",
      "metadata": {
        "id": "IgAddmik1KX8",
        "colab_type": "code",
        "colab": {}
      },
      "source": [
        "np.allclose(X_reduced_pca, X_reduced_inc_pca)"
      ],
      "execution_count": 0,
      "outputs": []
    },
    {
      "cell_type": "markdown",
      "metadata": {
        "id": "Ous8OAwa1KYJ",
        "colab_type": "text"
      },
      "source": [
        "## Time complexity"
      ]
    },
    {
      "cell_type": "markdown",
      "metadata": {
        "id": "jgN3N6Oy1KYK",
        "colab_type": "text"
      },
      "source": [
        "Let's time regular PCA against Incremental PCA and Randomized PCA, for various number of principal components:"
      ]
    },
    {
      "cell_type": "code",
      "metadata": {
        "id": "U-BiBC0Y1KYK",
        "colab_type": "code",
        "colab": {}
      },
      "source": [
        "import time\n",
        "\n",
        "for n_components in (2, 10, 154):\n",
        "    print(\"n_components =\", n_components)\n",
        "    regular_pca = PCA(n_components=n_components)\n",
        "    inc_pca = IncrementalPCA(n_components=n_components, batch_size=500)\n",
        "    rnd_pca = PCA(n_components=n_components, random_state=42, svd_solver=\"randomized\")\n",
        "\n",
        "    for pca in (regular_pca, inc_pca, rnd_pca):\n",
        "        t1 = time.time()\n",
        "        pca.fit(X_train)\n",
        "        t2 = time.time()\n",
        "        print(\"    {}: {:.1f} seconds\".format(pca.__class__.__name__, t2 - t1))"
      ],
      "execution_count": 0,
      "outputs": []
    },
    {
      "cell_type": "markdown",
      "metadata": {
        "id": "YFJKfxkU1KYM",
        "colab_type": "text"
      },
      "source": [
        "Now let's compare PCA and Randomized PCA for datasets of different sizes (number of instances):"
      ]
    },
    {
      "cell_type": "code",
      "metadata": {
        "id": "0R_G8Kkc1KYM",
        "colab_type": "code",
        "colab": {}
      },
      "source": [
        "times_rpca = []\n",
        "times_pca = []\n",
        "sizes = [1000, 10000, 20000, 30000, 40000, 50000, 70000, 100000, 200000, 500000]\n",
        "for n_samples in sizes:\n",
        "    X = np.random.randn(n_samples, 5)\n",
        "    pca = PCA(n_components = 2, svd_solver=\"randomized\", random_state=42)\n",
        "    t1 = time.time()\n",
        "    pca.fit(X)\n",
        "    t2 = time.time()\n",
        "    times_rpca.append(t2 - t1)\n",
        "    pca = PCA(n_components = 2)\n",
        "    t1 = time.time()\n",
        "    pca.fit(X)\n",
        "    t2 = time.time()\n",
        "    times_pca.append(t2 - t1)\n",
        "\n",
        "plt.plot(sizes, times_rpca, \"b-o\", label=\"RPCA\")\n",
        "plt.plot(sizes, times_pca, \"r-s\", label=\"PCA\")\n",
        "plt.xlabel(\"n_samples\")\n",
        "plt.ylabel(\"Training time\")\n",
        "plt.legend(loc=\"upper left\")\n",
        "plt.title(\"PCA and Randomized PCA time complexity \")"
      ],
      "execution_count": 0,
      "outputs": []
    },
    {
      "cell_type": "markdown",
      "metadata": {
        "id": "lVWZHZgl1KYO",
        "colab_type": "text"
      },
      "source": [
        "And now let's compare their performance on datasets of 2,000 instances with various numbers of features:"
      ]
    },
    {
      "cell_type": "code",
      "metadata": {
        "id": "TTdT1W2Q1KYO",
        "colab_type": "code",
        "colab": {}
      },
      "source": [
        "times_rpca = []\n",
        "times_pca = []\n",
        "sizes = [1000, 2000, 3000, 4000, 5000, 6000]\n",
        "for n_features in sizes:\n",
        "    X = np.random.randn(2000, n_features)\n",
        "    pca = PCA(n_components = 2, random_state=42, svd_solver=\"randomized\")\n",
        "    t1 = time.time()\n",
        "    pca.fit(X)\n",
        "    t2 = time.time()\n",
        "    times_rpca.append(t2 - t1)\n",
        "    pca = PCA(n_components = 2)\n",
        "    t1 = time.time()\n",
        "    pca.fit(X)\n",
        "    t2 = time.time()\n",
        "    times_pca.append(t2 - t1)\n",
        "\n",
        "plt.plot(sizes, times_rpca, \"b-o\", label=\"RPCA\")\n",
        "plt.plot(sizes, times_pca, \"r-s\", label=\"PCA\")\n",
        "plt.xlabel(\"n_features\")\n",
        "plt.ylabel(\"Training time\")\n",
        "plt.legend(loc=\"upper left\")\n",
        "plt.title(\"PCA and Randomized PCA time complexity \")"
      ],
      "execution_count": 0,
      "outputs": []
    }
  ]
}